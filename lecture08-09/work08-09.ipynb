{
 "cells": [
  {
   "cell_type": "code",
   "execution_count": 6,
   "id": "6bf8a685-2bc8-4496-82e9-0f9c77f401a5",
   "metadata": {},
   "outputs": [
    {
     "data": {
      "text/plain": [
       "mytrapezoids"
      ]
     },
     "execution_count": 6,
     "metadata": {},
     "output_type": "execute_result"
    }
   ],
   "source": [
    "\"\"\"\n",
    "    ans = mytrapezoids(fun, a, b, n)\n",
    "\n",
    "Numerically evaluate the integral int_a^b fun(x) dx using the\n",
    "trapezoidal rule: I = h/2*(f_1 + 2f_2 + ... + 2f_{n-1} + f_n),\n",
    "where h = (b - a)/(n - 1), x_i = a + (i - 1)*h, f_i = fun(x_i).\n",
    "\"\"\"\n",
    "function mytrapezoids(fun, a, b, n)\n",
    "    h = (b - a)/(n - 1)\n",
    "    s1 = fun(a) + fun(b)\n",
    "    s2 = 0.0\n",
    "    for i = 2:(n-1)\n",
    "        s2 += fun(a + (i-1)*h)\n",
    "    end\n",
    "    return (s1 + 2*s2)*h/2\n",
    "end"
   ]
  },
  {
   "cell_type": "code",
   "execution_count": 7,
   "id": "cf36b52b-22c6-4110-a2fd-3db89dea90a4",
   "metadata": {},
   "outputs": [
    {
     "name": "stdout",
     "output_type": "stream",
     "text": [
      "search: \u001b[0m\u001b[1mm\u001b[22m\u001b[0m\u001b[1my\u001b[22m\u001b[0m\u001b[1mt\u001b[22m\u001b[0m\u001b[1mr\u001b[22m\u001b[0m\u001b[1ma\u001b[22m\u001b[0m\u001b[1mp\u001b[22m\u001b[0m\u001b[1me\u001b[22m\u001b[0m\u001b[1mz\u001b[22m\u001b[0m\u001b[1mo\u001b[22m\u001b[0m\u001b[1mi\u001b[22m\u001b[0m\u001b[1md\u001b[22m\u001b[0m\u001b[1ms\u001b[22m\n",
      "\n"
     ]
    },
    {
     "data": {
      "text/latex": [
       "\\begin{verbatim}\n",
       "ans = mytrapezoids(fun, a, b, n)\n",
       "\\end{verbatim}\n",
       "Numerically evaluate the integral int\\emph{a\\^{}b fun(x) dx using the trapezoidal rule: I = h/2*(f}1 + 2f\\emph{2 + ... + 2f}\\{n-1\\} + f\\emph{n), where h = (b - a)/(n - 1), x}i = a + (i - 1)*h, f\\emph{i = fun(x}i).\n",
       "\n"
      ],
      "text/markdown": [
       "```\n",
       "ans = mytrapezoids(fun, a, b, n)\n",
       "```\n",
       "\n",
       "Numerically evaluate the integral int*a^b fun(x) dx using the trapezoidal rule: I = h/2*(f*1 + 2f*2 + ... + 2f*{n-1} + f*n), where h = (b - a)/(n - 1), x*i = a + (i - 1)*h, f*i = fun(x*i).\n"
      ],
      "text/plain": [
       "\u001b[36m  ans = mytrapezoids(fun, a, b, n)\u001b[39m\n",
       "\n",
       "  Numerically evaluate the integral int\u001b[4ma^b fun(x) dx using the trapezoidal\u001b[24m\n",
       "  \u001b[4mrule: I = h/2*(f\u001b[24m1 + 2f\u001b[4m2 + ... + 2f\u001b[24m{n-1} + f\u001b[4mn), where h = (b - a)/(n - 1), x\u001b[24mi\n",
       "  = a + (i - 1)*h, f\u001b[4mi = fun(x\u001b[24mi)."
      ]
     },
     "execution_count": 7,
     "metadata": {},
     "output_type": "execute_result"
    }
   ],
   "source": [
    "?mytrapezoids"
   ]
  },
  {
   "cell_type": "code",
   "execution_count": 8,
   "id": "78c242d9-10b3-4e4b-9a7d-de1cd0b6fb78",
   "metadata": {},
   "outputs": [
    {
     "data": {
      "text/plain": [
       "20"
      ]
     },
     "execution_count": 8,
     "metadata": {},
     "output_type": "execute_result"
    }
   ],
   "source": [
    "fun1(x) = 1/x\n",
    "a1 = 1.0\n",
    "b1 = 2.0\n",
    "exact1 = log(2)\n",
    "np1 = 20 "
   ]
  },
  {
   "cell_type": "code",
   "execution_count": 9,
   "id": "1e18decf-6dc0-4ab3-a0ad-f71c466e1f5d",
   "metadata": {},
   "outputs": [
    {
     "data": {
      "text/plain": [
       "0.6933202508885106"
      ]
     },
     "execution_count": 9,
     "metadata": {},
     "output_type": "execute_result"
    }
   ],
   "source": [
    "res1 = mytrapezoids(fun1, a1, b1, np1)"
   ]
  },
  {
   "cell_type": "code",
   "execution_count": 10,
   "id": "468ad700-e098-4abb-b681-cd9abe5cc8e5",
   "metadata": {},
   "outputs": [
    {
     "data": {
      "text/plain": [
       "0.0002"
      ]
     },
     "execution_count": 10,
     "metadata": {},
     "output_type": "execute_result"
    }
   ],
   "source": [
    "round(abs(res1 - exact1), sigdigits=1)"
   ]
  },
  {
   "cell_type": "code",
   "execution_count": 11,
   "id": "45ed2c19-2a2d-4cea-af7e-66e79ff619d1",
   "metadata": {},
   "outputs": [
    {
     "data": {
      "text/plain": [
       "100"
      ]
     },
     "execution_count": 11,
     "metadata": {},
     "output_type": "execute_result"
    }
   ],
   "source": [
    "fun2(x) = exp(x)\n",
    "a2 = 0.0\n",
    "b2 = 1.0\n",
    "exact2 = exp(1)-1.0\n",
    "np2 = 100"
   ]
  },
  {
   "cell_type": "code",
   "execution_count": 12,
   "id": "57f64f92-d22f-4d01-83ca-4f4a29e70cfd",
   "metadata": {},
   "outputs": [
    {
     "data": {
      "text/plain": [
       "1.718296438183449"
      ]
     },
     "execution_count": 12,
     "metadata": {},
     "output_type": "execute_result"
    }
   ],
   "source": [
    "res2 = mytrapezoids(fun2, a2, b2, np2)"
   ]
  },
  {
   "cell_type": "code",
   "execution_count": 13,
   "id": "0e256d19-8b76-4efd-9d43-9bd8e162e445",
   "metadata": {},
   "outputs": [
    {
     "data": {
      "text/plain": [
       "1.0e-5"
      ]
     },
     "execution_count": 13,
     "metadata": {},
     "output_type": "execute_result"
    }
   ],
   "source": [
    "round(abs(res2 - exact2), sigdigits=1)"
   ]
  },
  {
   "cell_type": "code",
   "execution_count": 14,
   "id": "596314ad-0c46-43f7-a084-02500db5adcd",
   "metadata": {},
   "outputs": [
    {
     "data": {
      "text/plain": [
       "2.0"
      ]
     },
     "execution_count": 14,
     "metadata": {},
     "output_type": "execute_result"
    }
   ],
   "source": [
    "fun3(x)= sin(x)\n",
    "a3 = 0.0\n",
    "b3 = pi\n",
    "exact3 = 2.0"
   ]
  },
  {
   "cell_type": "code",
   "execution_count": 15,
   "id": "1ecec931-df6a-431c-b744-80a0639ba4b9",
   "metadata": {},
   "outputs": [],
   "source": [
    "ndp = 10\n",
    "hh = zeros(ndp) #creat an array of ndp elements\n",
    "abserrs = zeros(ndp);"
   ]
  },
  {
   "cell_type": "code",
   "execution_count": 16,
   "id": "e5fa129c-1181-4a60-b1cd-c8281b2e9d3c",
   "metadata": {},
   "outputs": [],
   "source": [
    "for i = 1:ndp\n",
    "    np = 2^i + 1\n",
    "    hh[i] = (b3 - a3)/(np - 1)\n",
    "    abserrs[i] = abs(mytrapezoids(fun3, a3, b3, np) - exact3)\n",
    "end"
   ]
  },
  {
   "cell_type": "code",
   "execution_count": 17,
   "id": "d7bc7aa6-b941-4986-99e7-56d98c8d57df",
   "metadata": {},
   "outputs": [],
   "source": [
    "using PyPlot"
   ]
  },
  {
   "cell_type": "code",
   "execution_count": 18,
   "id": "385c0b33-6ce2-4895-99cc-c282ad24ed2a",
   "metadata": {},
   "outputs": [
    {
     "data": {
      "image/png": "[encoded data removed]",
      "text/plain": [
       "Figure(PyObject <Figure size 640x480 with 1 Axes>)"
      ]
     },
     "metadata": {},
     "output_type": "display_data"
    }
   ],
   "source": [
    "plot(hh, abserrs)\n",
    "grid(true)"
   ]
  },
  {
   "cell_type": "code",
   "execution_count": 19,
   "id": "f9f6b63f-acd3-43c3-8e6b-e3426cfcc904",
   "metadata": {},
   "outputs": [],
   "source": [
    "using PyPlot"
   ]
  },
  {
   "cell_type": "code",
   "execution_count": 20,
   "id": "622f3f38-97cb-4109-b8d4-a602098c6868",
   "metadata": {},
   "outputs": [
    {
     "data": {
      "image/png": "[encoded data removed]",
      "text/plain": [
       "Figure(PyObject <Figure size 640x480 with 1 Axes>)"
      ]
     },
     "metadata": {},
     "output_type": "display_data"
    }
   ],
   "source": [
    "loglog(hh, abserrs, marker=\".\", label=\"Numerical experiment\")\n",
    "loglog(hh, hh.^2, linestyle=\"dashed\", label=L\"h^2\")\n",
    "grid(true)\n",
    "xlabel(\"h\")\n",
    "ylabel(\"absolute error\")\n",
    "title(\"Error of trapezoidal formula\")\n",
    "legend(); "
   ]
  },
  {
   "cell_type": "code",
   "execution_count": 21,
   "id": "cee22f26-2c00-4762-840e-e1e3f9a6f242",
   "metadata": {},
   "outputs": [
    {
     "data": {
      "text/plain": [
       "mytrapezoids2 (generic function with 1 method)"
      ]
     },
     "execution_count": 21,
     "metadata": {},
     "output_type": "execute_result"
    }
   ],
   "source": [
    "function mytrapezoids2(fv, h)\n",
    "    return h/2*(fv[1] + fv[end] + 2*sum(fv[2:(end-1)]))\n",
    "    end"
   ]
  },
  {
   "cell_type": "code",
   "execution_count": 22,
   "id": "9f592a00-c838-45b6-9050-91425d53459f",
   "metadata": {},
   "outputs": [
    {
     "data": {
      "text/plain": [
       "0.0002"
      ]
     },
     "execution_count": 22,
     "metadata": {},
     "output_type": "execute_result"
    }
   ],
   "source": [
    "x1 = range(a1, b1, np1)\n",
    "fv1 = fun1.(x1)\n",
    "h1 = x1[2] - x1[1]\n",
    "round(abs(mytrapezoids2(fv1, h1) - exact1), sigdigits=1)"
   ]
  },
  {
   "cell_type": "code",
   "execution_count": 23,
   "id": "7c3e130a-2426-4e29-99ea-9d1b89bf5ef9",
   "metadata": {},
   "outputs": [
    {
     "data": {
      "text/plain": [
       "1.0e-5"
      ]
     },
     "execution_count": 23,
     "metadata": {},
     "output_type": "execute_result"
    }
   ],
   "source": [
    "x2 = range(a2, b2, np2)\n",
    "fv2 = fun2.(x2)\n",
    "h2 = x2[2] - x2[1]\n",
    "round(abs(mytrapezoids2(fv2, h2) - exact2), sigdigits=1)"
   ]
  },
  {
   "cell_type": "code",
   "execution_count": 28,
   "id": "f177d68d-1713-4863-a9b0-6cb5ba9a0592",
   "metadata": {},
   "outputs": [
    {
     "data": {
      "text/plain": [
       "simpson2 (generic function with 1 method)"
      ]
     },
     "execution_count": 28,
     "metadata": {},
     "output_type": "execute_result"
    }
   ],
   "source": [
    "function simpson2(fun, a, b, n)\n",
    "    x = range(a, b, n)\n",
    "    fv = fun.(x)\n",
    "    h = x[2]-x[1]\n",
    "    th = mytrapezoids2(fv, h)\n",
    "    t2h = mytrapezoids2(fv[1:2:end], 2*h)\n",
    "        simp = 1/3*(4*th - t2h)\n",
    "        return simp\n",
    "    end"
   ]
  },
  {
   "cell_type": "code",
   "execution_count": 29,
   "id": "28182cf6-1cdc-4623-acaf-2e86e8be2123",
   "metadata": {},
   "outputs": [
    {
     "data": {
      "text/plain": [
       "3.0e-7"
      ]
     },
     "execution_count": 29,
     "metadata": {},
     "output_type": "execute_result"
    }
   ],
   "source": [
    "nps1 = 19\n",
    "round(abs(simpson2(fun1, a1, b1, nps1) - exact1), sigdigits=1)"
   ]
  },
  {
   "cell_type": "code",
   "execution_count": 30,
   "id": "ecb43d93-612c-4d50-97b2-0ddfc8f3506b",
   "metadata": {},
   "outputs": [
    {
     "data": {
      "text/plain": [
       "1.0e-10"
      ]
     },
     "execution_count": 30,
     "metadata": {},
     "output_type": "execute_result"
    }
   ],
   "source": [
    "nps2 = 99\n",
    "round(abs(simpson2(fun2, a2, b2, nps2) - exact2), sigdigits=1)"
   ]
  },
  {
   "cell_type": "code",
   "execution_count": 32,
   "id": "87d3b04f-3d48-486e-b61d-05c2ac8dde78",
   "metadata": {},
   "outputs": [
    {
     "data": {
      "text/plain": [
       "3.0e-7"
      ]
     },
     "execution_count": 32,
     "metadata": {},
     "output_type": "execute_result"
    }
   ],
   "source": [
    "nn = 500\n",
    "round(abs(mytrapezoids(fun1, a1, b1, nn) - exact1), sigdigits=1)"
   ]
  },
  {
   "cell_type": "code",
   "execution_count": 33,
   "id": "1db86953-6a42-434e-a098-ee45ea6a430a",
   "metadata": {},
   "outputs": [
    {
     "data": {
      "text/plain": [
       "test (generic function with 1 method)"
      ]
     },
     "execution_count": 33,
     "metadata": {},
     "output_type": "execute_result"
    }
   ],
   "source": [
    "function test(n)\n",
    "    if iseven(n) || n <= 3\n",
    "        return Inf\n",
    "    end \n",
    "    return 0 \n",
    "end"
   ]
  },
  {
   "cell_type": "code",
   "execution_count": null,
   "id": "00c5de37-bd2c-44e1-9c15-03473f575948",
   "metadata": {},
   "outputs": [],
   "source": [
    "test(5)"
   ]
  }
 ],
 "metadata": {
  "kernelspec": {
   "display_name": "Julia 1.11.6",
   "language": "julia",
   "name": "julia-1.11"
  },
  "language_info": {
   "file_extension": ".jl",
   "mimetype": "application/julia",
   "name": "julia",
   "version": "1.11.6"
  }
 },
 "nbformat": 4,
 "nbformat_minor": 5
}
