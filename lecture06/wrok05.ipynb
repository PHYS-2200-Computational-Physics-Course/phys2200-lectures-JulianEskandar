{
 "cells": [
  {
   "cell_type": "code",
   "execution_count": 22,
   "id": "d217c9c2-b793-472f-92ac-1e572d831731",
   "metadata": {},
   "outputs": [
    {
     "data": {
      "text/plain": [
       "myfib"
      ]
     },
     "execution_count": 22,
     "metadata": {},
     "output_type": "execute_result"
    }
   ],
   "source": [
    "\"\"\"\n",
    "    myfib(n)\n",
    "\n",
    "Calculate Fibonacci number F_n using the recurrence relation\n",
    "F_1 = 1, F_2 = 1, and F_n = F_n-1 + F_n-2 for n > 2.\n",
    "\"\"\"\n",
    "function myfib(n)\n",
    "    fp = 1\n",
    "    if n == 1\n",
    "        return fp\n",
    "    end \n",
    "    \n",
    "    fc = 1\n",
    "    if n == 2\n",
    "        return fp\n",
    "    end\n",
    "\n",
    "    for i = 3:n\n",
    "        fn = fc + fp\n",
    "        fp = fc\n",
    "        fc = fn\n",
    "    end\n",
    "\n",
    "    return fc\n",
    "end"
   ]
  },
  {
   "cell_type": "code",
   "execution_count": 2,
   "id": "530afc8f-4244-4f3b-bb95-3b27496cf91d",
   "metadata": {
    "scrolled": true
   },
   "outputs": [
    {
     "name": "stdout",
     "output_type": "stream",
     "text": [
      "search: \u001b[0m\u001b[1mm\u001b[22m\u001b[0m\u001b[1my\u001b[22m\u001b[0m\u001b[1mf\u001b[22m\u001b[0m\u001b[1mi\u001b[22m\u001b[0m\u001b[1mb\u001b[22m\n",
      "\n"
     ]
    },
    {
     "data": {
      "text/latex": [
       "\\begin{verbatim}\n",
       "myfib(n)\n",
       "\\end{verbatim}\n",
       "Calculate Fibonacci number F\\emph{n using the recurrence relation F}1 = 1, F\\emph{2 = 1, and F}n = F\\emph{n-1 + F}n-2 for n > 2.\n",
       "\n"
      ],
      "text/markdown": [
       "```\n",
       "myfib(n)\n",
       "```\n",
       "\n",
       "Calculate Fibonacci number F*n using the recurrence relation F*1 = 1, F*2 = 1, and F*n = F*n-1 + F*n-2 for n > 2.\n"
      ],
      "text/plain": [
       "\u001b[36m  myfib(n)\u001b[39m\n",
       "\n",
       "  Calculate Fibonacci number F\u001b[4mn using the recurrence relation F\u001b[24m1 = 1, F\u001b[4m2 = 1,\u001b[24m\n",
       "  \u001b[4mand F\u001b[24mn = F\u001b[4mn-1 + F\u001b[24mn-2 for n > 2."
      ]
     },
     "execution_count": 2,
     "metadata": {},
     "output_type": "execute_result"
    }
   ],
   "source": [
    "?myfib"
   ]
  },
  {
   "cell_type": "code",
   "execution_count": 23,
   "id": "9c2f6a73-aad6-4fa4-a376-32a5bf66a43d",
   "metadata": {},
   "outputs": [
    {
     "data": {
      "text/plain": [
       "10-element Vector{Int64}:\n",
       "  1\n",
       "  1\n",
       "  2\n",
       "  3\n",
       "  5\n",
       "  8\n",
       " 13\n",
       " 21\n",
       " 34\n",
       " 55"
      ]
     },
     "execution_count": 23,
     "metadata": {},
     "output_type": "execute_result"
    }
   ],
   "source": [
    "\n",
    "myfib.(1:10)"
   ]
  },
  {
   "cell_type": "code",
   "execution_count": 27,
   "id": "94d2c483-fed4-4ba7-bc5c-532c54e3f229",
   "metadata": {},
   "outputs": [
    {
     "data": {
      "text/plain": [
       "myfib1 (generic function with 1 method)"
      ]
     },
     "execution_count": 27,
     "metadata": {},
     "output_type": "execute_result"
    }
   ],
   "source": [
    "function myfib1(n)\n",
    "    if n == 1\n",
    "        return 1\n",
    "    elseif n == 2\n",
    "        return 1\n",
    "    end\n",
    "\n",
    "    return myfib1(n-1) + myfib1(n-2)\n",
    "end"
   ]
  },
  {
   "cell_type": "code",
   "execution_count": 29,
   "id": "8184a735-8d92-4ff1-aa53-9750527a095f",
   "metadata": {},
   "outputs": [
    {
     "data": {
      "text/plain": [
       "11-element Vector{Int64}:\n",
       "  1\n",
       "  1\n",
       "  2\n",
       "  3\n",
       "  5\n",
       "  8\n",
       " 13\n",
       " 21\n",
       " 34\n",
       " 55\n",
       " 89"
      ]
     },
     "execution_count": 29,
     "metadata": {},
     "output_type": "execute_result"
    }
   ],
   "source": [
    "myfib.(1:11)"
   ]
  },
  {
   "cell_type": "code",
   "execution_count": 30,
   "id": "dd09341b-05b8-41d6-8f09-9c709c3a94e2",
   "metadata": {},
   "outputs": [
    {
     "name": "stdout",
     "output_type": "stream",
     "text": [
      "  0.000000 seconds\n"
     ]
    }
   ],
   "source": [
    "@time myfib(50);"
   ]
  },
  {
   "cell_type": "code",
   "execution_count": 31,
   "id": "da5f73a0-7239-4861-956b-ebab7da1decd",
   "metadata": {},
   "outputs": [
    {
     "name": "stdout",
     "output_type": "stream",
     "text": [
      " 46.564832 seconds\n"
     ]
    }
   ],
   "source": [
    "@time myfib1(50);"
   ]
  },
  {
   "cell_type": "code",
   "execution_count": 1,
   "id": "e70b22b1-8cef-4df4-a92f-701ccb16416c",
   "metadata": {},
   "outputs": [
    {
     "data": {
      "text/plain": [
       "myfib2"
      ]
     },
     "execution_count": 1,
     "metadata": {},
     "output_type": "execute_result"
    }
   ],
   "source": [
    "\"\"\"\n",
    "    myfib2(n)\n",
    "\n",
    "Calculate Fibonacci number F_n using the recurrence relation\n",
    "F_1 = 1, F_2 = 1, and F_n = F_n-1 + F_n-2 for n > 2.\n",
    "\"\"\"\n",
    "function myfib2(n)\n",
    "    fp = 1\n",
    "    if n == 1\n",
    "        return fp\n",
    "    end \n",
    "    \n",
    "    fc = 1\n",
    "    if n == 2\n",
    "        return fp\n",
    "    end\n",
    "\n",
    "    for i = 3:n\n",
    "        # fn = fc + fp\n",
    "        # fp = fc\n",
    "        # fc = fn\n",
    "        fc , fp = fc + fp, fc\n",
    "    end\n",
    "\n",
    "    return fc\n",
    "end"
   ]
  },
  {
   "cell_type": "code",
   "execution_count": null,
   "id": "6c64fded-97f8-48d2-a61f-e4ce22256f68",
   "metadata": {},
   "outputs": [],
   "source": []
  }
 ],
 "metadata": {
  "kernelspec": {
   "display_name": "Julia 1.11.6",
   "language": "julia",
   "name": "julia-1.11"
  },
  "language_info": {
   "file_extension": ".jl",
   "mimetype": "application/julia",
   "name": "julia",
   "version": "1.11.6"
  }
 },
 "nbformat": 4,
 "nbformat_minor": 5
}
